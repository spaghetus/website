{
 "cells": [
  {
   "attachments": {},
   "cell_type": "markdown",
   "metadata": {},
   "source": [
    "This page tests rendering Jupyter notebooks."
   ]
  },
  {
   "cell_type": "code",
   "execution_count": 5,
   "metadata": {},
   "outputs": [
    {
     "data": {
      "text/plain": [
       "{3: 108,\n",
       " 9: 84,\n",
       " 0: 86,\n",
       " 1: 97,\n",
       " 6: 91,\n",
       " 4: 67,\n",
       " 5: 95,\n",
       " 2: 82,\n",
       " 10: 111,\n",
       " 7: 99,\n",
       " 8: 80}"
      ]
     },
     "execution_count": 5,
     "metadata": {},
     "output_type": "execute_result"
    }
   ],
   "source": [
    "import random\n",
    "random_data = [random.randint(0, 10) for n in range(1000)]\n",
    "buckets = {}\n",
    "for point in random_data:\n",
    "\tbuckets[point] = (buckets[point]+1) if (point in buckets) else 1\n",
    "buckets"
   ]
  }
 ],
 "metadata": {
  "kernelspec": {
   "display_name": "base",
   "language": "python",
   "name": "python3"
  },
  "language_info": {
   "codemirror_mode": {
    "name": "ipython",
    "version": 3
   },
   "file_extension": ".py",
   "mimetype": "text/x-python",
   "name": "python",
   "nbconvert_exporter": "python",
   "pygments_lexer": "ipython3",
   "version": "3.10.8"
  },
  "orig_nbformat": 4
 },
 "nbformat": 4,
 "nbformat_minor": 2
}
